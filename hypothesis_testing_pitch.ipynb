{
 "cells": [
  {
   "cell_type": "markdown",
   "id": "333901f4",
   "metadata": {},
   "source": [
    "# For my Hypothesis testing pitch, I will try to ask and understand:"
   ]
  },
  {
   "cell_type": "markdown",
   "id": "5cd44483",
   "metadata": {},
   "source": [
    "Is CTown cheaper option around the Columbia University neighbourhood to buy eggs compared to Morton Williams ?"
   ]
  },
  {
   "cell_type": "markdown",
   "id": "758aa38a",
   "metadata": {},
   "source": [
    "# My hypothesis question can be framed as:\n",
    "    "
   ]
  },
  {
   "cell_type": "markdown",
   "id": "053b428d",
   "metadata": {},
   "source": [
    "Is the price of eggs at CTown significantly lower than the price of eggs at Morton William in the columbia University neighbourhood?"
   ]
  },
  {
   "cell_type": "markdown",
   "id": "174f7756",
   "metadata": {},
   "source": [
    "Here the independent variable is the grocery store (CTown, Morton Williams) and the dependent variable is the price of the eggs"
   ]
  },
  {
   "cell_type": "markdown",
   "id": "e3564935",
   "metadata": {},
   "source": [
    "The proposed relationship is that CTown may have significantly lower egg prices compared to Morton Williams."
   ]
  },
  {
   "cell_type": "code",
   "execution_count": 33,
   "id": "4913600a",
   "metadata": {},
   "outputs": [
    {
     "name": "stderr",
     "output_type": "stream",
     "text": [
      "During startup - Warning messages:\n",
      "1: Setting LC_COLLATE failed, using \"C\" \n",
      "2: Setting LC_TIME failed, using \"C\" \n",
      "3: Setting LC_MESSAGES failed, using \"C\" \n",
      "4: Setting LC_MONETARY failed, using \"C\" \n"
     ]
    }
   ],
   "source": [
    "# importing and set up\n",
    "%load_ext rpy2.ipython\n",
    "%load_ext autoreload\n",
    "%autoreload 2\n",
    "\n",
    "%matplotlib inline  \n",
    "from matplotlib import rcParams\n",
    "rcParams['figure.figsize'] = (16, 100)\n",
    "\n",
    "import warnings\n",
    "from rpy2.rinterface import RRuntimeWarning\n",
    "warnings.filterwarnings(\"ignore\") # Ignore all warnings\n",
    "# warnings.filterwarnings(\"ignore\", category=RRuntimeWarning) # Show some warnings\n",
    "\n",
    "import pandas as pd\n",
    "import numpy as np\n",
    "import matplotlib.pyplot as plt\n",
    "from IPython.display import display, HTML"
   ]
  },
  {
   "cell_type": "code",
   "execution_count": 34,
   "id": "25834aeb",
   "metadata": {},
   "outputs": [
    {
     "name": "stderr",
     "output_type": "stream",
     "text": [
      "R[write to console]: Loading required package: tidyverse\n",
      "\n"
     ]
    },
    {
     "name": "stdout",
     "output_type": "stream",
     "text": [
      "── Attaching core tidyverse packages ──────────────────────── tidyverse 2.0.0 ──\n",
      "✔ dplyr     1.1.0     ✔ readr     2.1.4\n",
      "✔ forcats   1.0.0     ✔ stringr   1.5.0\n",
      "✔ ggplot2   3.4.1     ✔ tibble    3.1.8\n",
      "✔ lubridate 1.9.2     ✔ tidyr     1.3.0\n",
      "✔ purrr     1.0.1     \n",
      "── Conflicts ────────────────────────────────────────── tidyverse_conflicts() ──\n",
      "✖ dplyr::filter() masks stats::filter()\n",
      "✖ dplyr::lag()    masks stats::lag()\n",
      "ℹ Use the conflicted package (<http://conflicted.r-lib.org/>) to force all conflicts to become errors\n"
     ]
    }
   ],
   "source": [
    "%%R\n",
    "\n",
    "require('tidyverse')\n"
   ]
  },
  {
   "cell_type": "code",
   "execution_count": 30,
   "id": "044ac6ba",
   "metadata": {},
   "outputs": [],
   "source": [
    "import pandas as pd"
   ]
  },
  {
   "cell_type": "code",
   "execution_count": null,
   "id": "0da9d442",
   "metadata": {},
   "outputs": [],
   "source": [
    "df_eggs = pd.read_csv(\"eggs_hypothesis_pitch - Sheet1.csv\")"
   ]
  },
  {
   "cell_type": "code",
   "execution_count": 32,
   "id": "832f743c",
   "metadata": {},
   "outputs": [
    {
     "data": {
      "text/html": [
       "<div>\n",
       "<style scoped>\n",
       "    .dataframe tbody tr th:only-of-type {\n",
       "        vertical-align: middle;\n",
       "    }\n",
       "\n",
       "    .dataframe tbody tr th {\n",
       "        vertical-align: top;\n",
       "    }\n",
       "\n",
       "    .dataframe thead th {\n",
       "        text-align: right;\n",
       "    }\n",
       "</style>\n",
       "<table border=\"1\" class=\"dataframe\">\n",
       "  <thead>\n",
       "    <tr style=\"text-align: right;\">\n",
       "      <th></th>\n",
       "      <th>prices_ctown</th>\n",
       "      <th>prices_mw</th>\n",
       "    </tr>\n",
       "  </thead>\n",
       "  <tbody>\n",
       "    <tr>\n",
       "      <th>0</th>\n",
       "      <td>2.79</td>\n",
       "      <td>6.79</td>\n",
       "    </tr>\n",
       "    <tr>\n",
       "      <th>1</th>\n",
       "      <td>3.29</td>\n",
       "      <td>7.19</td>\n",
       "    </tr>\n",
       "    <tr>\n",
       "      <th>2</th>\n",
       "      <td>3.89</td>\n",
       "      <td>7.19</td>\n",
       "    </tr>\n",
       "    <tr>\n",
       "      <th>3</th>\n",
       "      <td>4.79</td>\n",
       "      <td>7.29</td>\n",
       "    </tr>\n",
       "    <tr>\n",
       "      <th>4</th>\n",
       "      <td>4.89</td>\n",
       "      <td>7.89</td>\n",
       "    </tr>\n",
       "    <tr>\n",
       "      <th>5</th>\n",
       "      <td>4.99</td>\n",
       "      <td>9.99</td>\n",
       "    </tr>\n",
       "    <tr>\n",
       "      <th>6</th>\n",
       "      <td>5.49</td>\n",
       "      <td>9.99</td>\n",
       "    </tr>\n",
       "    <tr>\n",
       "      <th>7</th>\n",
       "      <td>5.49</td>\n",
       "      <td>10.09</td>\n",
       "    </tr>\n",
       "    <tr>\n",
       "      <th>8</th>\n",
       "      <td>5.79</td>\n",
       "      <td>10.89</td>\n",
       "    </tr>\n",
       "    <tr>\n",
       "      <th>9</th>\n",
       "      <td>5.89</td>\n",
       "      <td>10.89</td>\n",
       "    </tr>\n",
       "    <tr>\n",
       "      <th>10</th>\n",
       "      <td>6.59</td>\n",
       "      <td>10.89</td>\n",
       "    </tr>\n",
       "    <tr>\n",
       "      <th>11</th>\n",
       "      <td>7.19</td>\n",
       "      <td>11.19</td>\n",
       "    </tr>\n",
       "    <tr>\n",
       "      <th>12</th>\n",
       "      <td>7.19</td>\n",
       "      <td>11.19</td>\n",
       "    </tr>\n",
       "    <tr>\n",
       "      <th>13</th>\n",
       "      <td>8.79</td>\n",
       "      <td>11.59</td>\n",
       "    </tr>\n",
       "    <tr>\n",
       "      <th>14</th>\n",
       "      <td>9.19</td>\n",
       "      <td>11.79</td>\n",
       "    </tr>\n",
       "  </tbody>\n",
       "</table>\n",
       "</div>"
      ],
      "text/plain": [
       "    prices_ctown  prices_mw\n",
       "0           2.79       6.79\n",
       "1           3.29       7.19\n",
       "2           3.89       7.19\n",
       "3           4.79       7.29\n",
       "4           4.89       7.89\n",
       "5           4.99       9.99\n",
       "6           5.49       9.99\n",
       "7           5.49      10.09\n",
       "8           5.79      10.89\n",
       "9           5.89      10.89\n",
       "10          6.59      10.89\n",
       "11          7.19      11.19\n",
       "12          7.19      11.19\n",
       "13          8.79      11.59\n",
       "14          9.19      11.79"
      ]
     },
     "execution_count": 32,
     "metadata": {},
     "output_type": "execute_result"
    }
   ],
   "source": [
    "df_eggs"
   ]
  },
  {
   "cell_type": "code",
   "execution_count": 41,
   "id": "d0dc17c4",
   "metadata": {},
   "outputs": [
    {
     "data": {
      "image/png": "[encoded data removed]"
     },
     "metadata": {},
     "output_type": "display_data"
    }
   ],
   "source": [
    "%%R -i eggs_df\n",
    "\n",
    "#plot the distribution\n",
    "ggplot(eggs_df, aes(x = prices_ctown, y = prices_mw)) +\n",
    " geom_point() + \n",
    "labs(x = \"prices of eggs at CTown\", y = \"Prices of egss at Morton Williams\", title = \" Prices for a dozen of eggs\")"
   ]
  },
  {
   "cell_type": "code",
   "execution_count": 42,
   "id": "b09bcef1",
   "metadata": {},
   "outputs": [],
   "source": [
    "summary_stats = eggs_df.describe()"
   ]
  },
  {
   "cell_type": "code",
   "execution_count": 43,
   "id": "9fe319ba",
   "metadata": {},
   "outputs": [
    {
     "data": {
      "text/html": [
       "<div>\n",
       "<style scoped>\n",
       "    .dataframe tbody tr th:only-of-type {\n",
       "        vertical-align: middle;\n",
       "    }\n",
       "\n",
       "    .dataframe tbody tr th {\n",
       "        vertical-align: top;\n",
       "    }\n",
       "\n",
       "    .dataframe thead th {\n",
       "        text-align: right;\n",
       "    }\n",
       "</style>\n",
       "<table border=\"1\" class=\"dataframe\">\n",
       "  <thead>\n",
       "    <tr style=\"text-align: right;\">\n",
       "      <th></th>\n",
       "      <th>prices_ctown</th>\n",
       "      <th>Egg_size</th>\n",
       "      <th>prices_mw</th>\n",
       "    </tr>\n",
       "  </thead>\n",
       "  <tbody>\n",
       "    <tr>\n",
       "      <th>count</th>\n",
       "      <td>130.000000</td>\n",
       "      <td>130.0</td>\n",
       "      <td>130.000000</td>\n",
       "    </tr>\n",
       "    <tr>\n",
       "      <th>mean</th>\n",
       "      <td>5.659231</td>\n",
       "      <td>12.0</td>\n",
       "      <td>9.470000</td>\n",
       "    </tr>\n",
       "    <tr>\n",
       "      <th>std</th>\n",
       "      <td>1.854132</td>\n",
       "      <td>0.0</td>\n",
       "      <td>1.881711</td>\n",
       "    </tr>\n",
       "    <tr>\n",
       "      <th>min</th>\n",
       "      <td>2.790000</td>\n",
       "      <td>12.0</td>\n",
       "      <td>6.790000</td>\n",
       "    </tr>\n",
       "    <tr>\n",
       "      <th>25%</th>\n",
       "      <td>4.790000</td>\n",
       "      <td>12.0</td>\n",
       "      <td>7.290000</td>\n",
       "    </tr>\n",
       "    <tr>\n",
       "      <th>50%</th>\n",
       "      <td>5.490000</td>\n",
       "      <td>12.0</td>\n",
       "      <td>10.040000</td>\n",
       "    </tr>\n",
       "    <tr>\n",
       "      <th>75%</th>\n",
       "      <td>6.590000</td>\n",
       "      <td>12.0</td>\n",
       "      <td>11.190000</td>\n",
       "    </tr>\n",
       "    <tr>\n",
       "      <th>max</th>\n",
       "      <td>9.190000</td>\n",
       "      <td>12.0</td>\n",
       "      <td>11.790000</td>\n",
       "    </tr>\n",
       "  </tbody>\n",
       "</table>\n",
       "</div>"
      ],
      "text/plain": [
       "       prices_ctown  Egg_size   prices_mw\n",
       "count    130.000000     130.0  130.000000\n",
       "mean       5.659231      12.0    9.470000\n",
       "std        1.854132       0.0    1.881711\n",
       "min        2.790000      12.0    6.790000\n",
       "25%        4.790000      12.0    7.290000\n",
       "50%        5.490000      12.0   10.040000\n",
       "75%        6.590000      12.0   11.190000\n",
       "max        9.190000      12.0   11.790000"
      ]
     },
     "execution_count": 43,
     "metadata": {},
     "output_type": "execute_result"
    }
   ],
   "source": [
    "summary_stats"
   ]
  },
  {
   "cell_type": "markdown",
   "id": "949d9d49",
   "metadata": {},
   "source": [
    "# Journalistic —> Statistical Inquiry"
   ]
  },
  {
   "cell_type": "markdown",
   "id": "ed124063",
   "metadata": {},
   "source": [
    "based on the hypothesis question, \n",
    "Based on your hypothesis, the null and alternative hypotheses can be stated as:\n",
    "\n",
    "- Null hypothesis: The mean price of eggs at CTown is equal to or higher than the mean price of eggs at Morton Williams in the Columbia University neighborhood.\n",
    "- Alternative hypothesis: The mean price of eggs at CTown is significantly lower than the mean price of eggs at Morton Williams in the Columbia University neighborhood.\n"
   ]
  },
  {
   "cell_type": "markdown",
   "id": "ef69db77",
   "metadata": {},
   "source": [
    "# for this we will perform a t-test to see the relationship "
   ]
  },
  {
   "cell_type": "code",
   "execution_count": 51,
   "id": "5ea9510e",
   "metadata": {},
   "outputs": [
    {
     "name": "stdout",
     "output_type": "stream",
     "text": [
      "\n",
      "\tWelch Two Sample t-test\n",
      "\n",
      "data:  eggs_df$prices_ctown and eggs_df$prices_mw\n",
      "t = -16.447, df = 257.94, p-value < 2.2e-16\n",
      "alternative hypothesis: true difference in means is not equal to 0\n",
      "95 percent confidence interval:\n",
      " -4.267021 -3.354518\n",
      "sample estimates:\n",
      "mean of x mean of y \n",
      " 5.659231  9.470000 \n",
      "\n"
     ]
    }
   ],
   "source": [
    "%%R -i eggs_df\n",
    "\n",
    "t.test(eggs_df$prices_ctown, eggs_df$prices_mw)\n"
   ]
  },
  {
   "cell_type": "markdown",
   "id": "e56dedc0",
   "metadata": {},
   "source": [
    "here we can see that p-value is very small and t is in negative, meaning that there is a significant difference in the means of the prices at Ctown and Morton Williams "
   ]
  },
  {
   "cell_type": "markdown",
   "id": "8d2a2366",
   "metadata": {},
   "source": [
    "we can reject the null hypothesis which makes the alternative hypothesis true.\n",
    "\n",
    "Therefore,The mean price of eggs at CTown is significantly lower than the mean price of eggs at Morton Williams in the Columbia University neighborhood.\n",
    "\n",
    "ctown is a cheaper place to buy eggs."
   ]
  },
  {
   "cell_type": "markdown",
   "id": "779ecc4f",
   "metadata": {},
   "source": [
    "# Journalistic questions to ask"
   ]
  },
  {
   "cell_type": "markdown",
   "id": "1d1800be",
   "metadata": {},
   "source": [
    "What makes the prices so expensive at Morton Williams? proximity to columbia university? \n",
    "is there any difference between the quality of eggs? Maybe different brands?\n"
   ]
  },
  {
   "cell_type": "markdown",
   "id": "02187ce2",
   "metadata": {},
   "source": [
    "Limitations"
   ]
  },
  {
   "cell_type": "markdown",
   "id": "0e9eefe0",
   "metadata": {},
   "source": [
    "the sample size is not large enough. \n",
    "we have some prices which skew the distribution for ctown, like the 2 dollar price tag for some eggs\n"
   ]
  },
  {
   "cell_type": "code",
   "execution_count": null,
   "id": "0908d861",
   "metadata": {},
   "outputs": [],
   "source": []
  }
 ],
 "metadata": {
  "kernelspec": {
   "display_name": "Python 3 (ipykernel)",
   "language": "python",
   "name": "python3"
  },
  "language_info": {
   "codemirror_mode": {
    "name": "ipython",
    "version": 3
   },
   "file_extension": ".py",
   "mimetype": "text/x-python",
   "name": "python",
   "nbconvert_exporter": "python",
   "pygments_lexer": "ipython3",
   "version": "3.11.0rc2"
  }
 },
 "nbformat": 4,
 "nbformat_minor": 5
}
